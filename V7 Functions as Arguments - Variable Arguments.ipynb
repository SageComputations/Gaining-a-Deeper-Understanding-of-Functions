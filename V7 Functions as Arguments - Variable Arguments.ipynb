{
 "cells": [
  {
   "cell_type": "code",
   "execution_count": 1,
   "id": "f40f7f5a",
   "metadata": {},
   "outputs": [],
   "source": [
    "def calculate(*args, fn):\n",
    "    return fn(*args)"
   ]
  },
  {
   "cell_type": "markdown",
   "id": "2d80013c",
   "metadata": {},
   "source": [
    "# fn(*args)\n",
    "# unpacks the args tuple and pass the arguments in individually"
   ]
  },
  {
   "cell_type": "markdown",
   "id": "69c82f4a",
   "metadata": {},
   "source": [
    "#### example args = (10,2) , then fn(10,2) will unpack the tuple and recieve the individual elements 10 and 2 and not the tuple as a whole"
   ]
  },
  {
   "cell_type": "code",
   "execution_count": 3,
   "id": "36ea5d91",
   "metadata": {},
   "outputs": [],
   "source": [
    "def area_rectangle_fn(length, breadth):\n",
    "    \n",
    "    return length * breadth"
   ]
  },
  {
   "cell_type": "code",
   "execution_count": 4,
   "id": "ca28650e",
   "metadata": {},
   "outputs": [],
   "source": [
    "def perimeter_rectangle_fn(length, breadth):\n",
    "    \n",
    "    return 2 * (length + breadth)"
   ]
  },
  {
   "cell_type": "code",
   "execution_count": 5,
   "id": "ae3cf159",
   "metadata": {},
   "outputs": [
    {
     "data": {
      "text/plain": [
       "800"
      ]
     },
     "execution_count": 5,
     "metadata": {},
     "output_type": "execute_result"
    }
   ],
   "source": [
    "calculate(20, 40, fn = area_rectangle_fn)"
   ]
  },
  {
   "cell_type": "code",
   "execution_count": 6,
   "id": "0e10a93b",
   "metadata": {},
   "outputs": [
    {
     "data": {
      "text/plain": [
       "120"
      ]
     },
     "execution_count": 6,
     "metadata": {},
     "output_type": "execute_result"
    }
   ],
   "source": [
    "calculate(20,40 , fn=perimeter_rectangle_fn)"
   ]
  },
  {
   "cell_type": "code",
   "execution_count": 7,
   "id": "a4acc1e1",
   "metadata": {},
   "outputs": [
    {
     "ename": "TypeError",
     "evalue": "area_rectangle_fn() missing 1 required positional argument: 'breadth'",
     "output_type": "error",
     "traceback": [
      "\u001b[1;31m---------------------------------------------------------------------------\u001b[0m",
      "\u001b[1;31mTypeError\u001b[0m                                 Traceback (most recent call last)",
      "Input \u001b[1;32mIn [7]\u001b[0m, in \u001b[0;36m<cell line: 1>\u001b[1;34m()\u001b[0m\n\u001b[1;32m----> 1\u001b[0m \u001b[43mcalculate\u001b[49m\u001b[43m(\u001b[49m\u001b[38;5;241;43m10\u001b[39;49m\u001b[43m,\u001b[49m\u001b[43m \u001b[49m\u001b[43mfn\u001b[49m\u001b[43m \u001b[49m\u001b[38;5;241;43m=\u001b[39;49m\u001b[43m \u001b[49m\u001b[43marea_rectangle_fn\u001b[49m\u001b[43m)\u001b[49m\n",
      "Input \u001b[1;32mIn [1]\u001b[0m, in \u001b[0;36mcalculate\u001b[1;34m(fn, *args)\u001b[0m\n\u001b[0;32m      1\u001b[0m \u001b[38;5;28;01mdef\u001b[39;00m \u001b[38;5;21mcalculate\u001b[39m(\u001b[38;5;241m*\u001b[39margs, fn):\n\u001b[1;32m----> 2\u001b[0m     \u001b[38;5;28;01mreturn\u001b[39;00m \u001b[43mfn\u001b[49m\u001b[43m(\u001b[49m\u001b[38;5;241;43m*\u001b[39;49m\u001b[43margs\u001b[49m\u001b[43m)\u001b[49m\n",
      "\u001b[1;31mTypeError\u001b[0m: area_rectangle_fn() missing 1 required positional argument: 'breadth'"
     ]
    }
   ],
   "source": [
    "calculate(10, fn = area_rectangle_fn)"
   ]
  },
  {
   "cell_type": "code",
   "execution_count": null,
   "id": "beaa381d",
   "metadata": {},
   "outputs": [],
   "source": []
  }
 ],
 "metadata": {
  "kernelspec": {
   "display_name": "Python 3 (ipykernel)",
   "language": "python",
   "name": "python3"
  },
  "language_info": {
   "codemirror_mode": {
    "name": "ipython",
    "version": 3
   },
   "file_extension": ".py",
   "mimetype": "text/x-python",
   "name": "python",
   "nbconvert_exporter": "python",
   "pygments_lexer": "ipython3",
   "version": "3.9.12"
  }
 },
 "nbformat": 4,
 "nbformat_minor": 5
}
