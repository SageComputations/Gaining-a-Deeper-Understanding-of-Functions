{
 "cells": [
  {
   "cell_type": "code",
   "execution_count": 1,
   "id": "94b275c3",
   "metadata": {},
   "outputs": [],
   "source": [
    "def square(x):\n",
    "    \n",
    "    return x*x"
   ]
  },
  {
   "cell_type": "code",
   "execution_count": 2,
   "id": "36f3d680",
   "metadata": {},
   "outputs": [
    {
     "data": {
      "text/plain": [
       "25"
      ]
     },
     "execution_count": 2,
     "metadata": {},
     "output_type": "execute_result"
    }
   ],
   "source": [
    "result = square(5)\n",
    "\n",
    "result"
   ]
  },
  {
   "cell_type": "code",
   "execution_count": 3,
   "id": "18528eb3",
   "metadata": {},
   "outputs": [
    {
     "data": {
      "text/plain": [
       "<function __main__.square(x)>"
      ]
     },
     "execution_count": 3,
     "metadata": {},
     "output_type": "execute_result"
    }
   ],
   "source": [
    "square"
   ]
  },
  {
   "cell_type": "code",
   "execution_count": 4,
   "id": "b77f0ff7",
   "metadata": {},
   "outputs": [],
   "source": [
    "# Function object is defined in the main module, The main module is simply\n",
    "# the default module in python"
   ]
  },
  {
   "cell_type": "code",
   "execution_count": 5,
   "id": "09edabb4",
   "metadata": {},
   "outputs": [],
   "source": [
    "sq = square"
   ]
  },
  {
   "cell_type": "code",
   "execution_count": 6,
   "id": "ac8ac789",
   "metadata": {},
   "outputs": [
    {
     "data": {
      "text/plain": [
       "<function __main__.square(x)>"
      ]
     },
     "execution_count": 6,
     "metadata": {},
     "output_type": "execute_result"
    }
   ],
   "source": [
    "sq"
   ]
  },
  {
   "cell_type": "code",
   "execution_count": 7,
   "id": "706b0853",
   "metadata": {},
   "outputs": [
    {
     "data": {
      "text/plain": [
       "144"
      ]
     },
     "execution_count": 7,
     "metadata": {},
     "output_type": "execute_result"
    }
   ],
   "source": [
    "result = sq(12)\n",
    "\n",
    "result"
   ]
  },
  {
   "cell_type": "code",
   "execution_count": 8,
   "id": "b9d8c51e",
   "metadata": {},
   "outputs": [],
   "source": [
    "cube_of = lambda x: x * x * x"
   ]
  },
  {
   "cell_type": "code",
   "execution_count": 9,
   "id": "284e8175",
   "metadata": {},
   "outputs": [],
   "source": [
    "# lambda<input_argument>:<expression>\n",
    "# Structure of a lambda definition    "
   ]
  },
  {
   "cell_type": "markdown",
   "id": "50481f72",
   "metadata": {},
   "source": [
    "# Constraints on lambdas in python\n",
    "# 1. You can't have complex statements and control structures such as if, else or for loops within lambdas.\n",
    "\n",
    "# 2. You can only have expression and the result of the expression is returned from the lambda"
   ]
  },
  {
   "cell_type": "code",
   "execution_count": 10,
   "id": "72b741eb",
   "metadata": {},
   "outputs": [
    {
     "data": {
      "text/plain": [
       "125"
      ]
     },
     "execution_count": 10,
     "metadata": {},
     "output_type": "execute_result"
    }
   ],
   "source": [
    "result = cube_of(5)\n",
    "\n",
    "result"
   ]
  },
  {
   "cell_type": "code",
   "execution_count": 11,
   "id": "857019a0",
   "metadata": {},
   "outputs": [
    {
     "data": {
      "text/plain": [
       "1000"
      ]
     },
     "execution_count": 11,
     "metadata": {},
     "output_type": "execute_result"
    }
   ],
   "source": [
    "result = cube_of(10)\n",
    "\n",
    "result"
   ]
  },
  {
   "cell_type": "code",
   "execution_count": 12,
   "id": "d3e4869c",
   "metadata": {},
   "outputs": [
    {
     "data": {
      "text/plain": [
       "<function __main__.<lambda>(x)>"
      ]
     },
     "execution_count": 12,
     "metadata": {},
     "output_type": "execute_result"
    }
   ],
   "source": [
    "cube_of"
   ]
  },
  {
   "cell_type": "code",
   "execution_count": 13,
   "id": "7b253888",
   "metadata": {},
   "outputs": [],
   "source": [
    "# it's a function object and it is a lambda function not a named function"
   ]
  },
  {
   "cell_type": "code",
   "execution_count": 14,
   "id": "271431f2",
   "metadata": {},
   "outputs": [],
   "source": [
    "add = lambda x,y: x+y"
   ]
  },
  {
   "cell_type": "code",
   "execution_count": 15,
   "id": "f614457d",
   "metadata": {},
   "outputs": [],
   "source": [
    "sub = lambda x,y : x-y"
   ]
  },
  {
   "cell_type": "code",
   "execution_count": 16,
   "id": "5c62cd78",
   "metadata": {},
   "outputs": [],
   "source": [
    "mul = lambda x,y : x*y"
   ]
  },
  {
   "cell_type": "code",
   "execution_count": 17,
   "id": "00ae5a77",
   "metadata": {},
   "outputs": [],
   "source": [
    "div = lambda x,y : x/y"
   ]
  },
  {
   "cell_type": "code",
   "execution_count": 18,
   "id": "b3208f00",
   "metadata": {},
   "outputs": [],
   "source": [
    "def calculate(x,y, operation =\"add\"):\n",
    "    \n",
    "    if operation == \"add\":\n",
    "        return add(x,y)\n",
    "    if operation == \"sub\":\n",
    "        return sub(x,y)\n",
    "    if operation == \"mul\":\n",
    "        return mul(x,y)\n",
    "    if operation == \"div\":\n",
    "        return div(x,y)"
   ]
  },
  {
   "cell_type": "code",
   "execution_count": 19,
   "id": "73412202",
   "metadata": {},
   "outputs": [
    {
     "data": {
      "text/plain": [
       "96"
      ]
     },
     "execution_count": 19,
     "metadata": {},
     "output_type": "execute_result"
    }
   ],
   "source": [
    "calculate(100,4, operation=\"sub\")"
   ]
  },
  {
   "cell_type": "code",
   "execution_count": 20,
   "id": "f5fd5c34",
   "metadata": {},
   "outputs": [
    {
     "data": {
      "text/plain": [
       "104"
      ]
     },
     "execution_count": 20,
     "metadata": {},
     "output_type": "execute_result"
    }
   ],
   "source": [
    "calculate(100,4)"
   ]
  },
  {
   "cell_type": "code",
   "execution_count": 21,
   "id": "79b6e8e4",
   "metadata": {},
   "outputs": [
    {
     "data": {
      "text/plain": [
       "400"
      ]
     },
     "execution_count": 21,
     "metadata": {},
     "output_type": "execute_result"
    }
   ],
   "source": [
    "calculate(100,4, operation = 'mul')"
   ]
  },
  {
   "cell_type": "code",
   "execution_count": 22,
   "id": "cfc81d04",
   "metadata": {},
   "outputs": [],
   "source": [
    "def calculate(*args, operation =\"add\"):\n",
    "    \n",
    "    if operation == \"add\":\n",
    "        return add(*args)\n",
    "    if operation == \"sub\":\n",
    "        return sub(*args)\n",
    "    if operation == \"mul\":\n",
    "        return mul(*args)\n",
    "    if operation == \"div\":\n",
    "        return div(*args)"
   ]
  },
  {
   "cell_type": "code",
   "execution_count": 23,
   "id": "232b85be",
   "metadata": {},
   "outputs": [
    {
     "data": {
      "text/plain": [
       "104"
      ]
     },
     "execution_count": 23,
     "metadata": {},
     "output_type": "execute_result"
    }
   ],
   "source": [
    "calculate(100,4)"
   ]
  },
  {
   "cell_type": "code",
   "execution_count": 24,
   "id": "1212e4e0",
   "metadata": {},
   "outputs": [
    {
     "data": {
      "text/plain": [
       "96"
      ]
     },
     "execution_count": 24,
     "metadata": {},
     "output_type": "execute_result"
    }
   ],
   "source": [
    "calculate(100, 4, operation = 'sub')"
   ]
  },
  {
   "cell_type": "code",
   "execution_count": 25,
   "id": "4e3b0733",
   "metadata": {},
   "outputs": [
    {
     "data": {
      "text/plain": [
       "25.0"
      ]
     },
     "execution_count": 25,
     "metadata": {},
     "output_type": "execute_result"
    }
   ],
   "source": [
    "calculate(100,4, operation = 'div')"
   ]
  },
  {
   "cell_type": "code",
   "execution_count": null,
   "id": "be771671",
   "metadata": {},
   "outputs": [],
   "source": []
  }
 ],
 "metadata": {
  "kernelspec": {
   "display_name": "Python 3 (ipykernel)",
   "language": "python",
   "name": "python3"
  },
  "language_info": {
   "codemirror_mode": {
    "name": "ipython",
    "version": 3
   },
   "file_extension": ".py",
   "mimetype": "text/x-python",
   "name": "python",
   "nbconvert_exporter": "python",
   "pygments_lexer": "ipython3",
   "version": "3.9.12"
  }
 },
 "nbformat": 4,
 "nbformat_minor": 5
}
