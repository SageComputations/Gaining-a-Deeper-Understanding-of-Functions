{
 "cells": [
  {
   "cell_type": "code",
   "execution_count": 1,
   "id": "398a8395",
   "metadata": {},
   "outputs": [],
   "source": [
    "salary = 1000\n",
    "expense = 200\n",
    "\n",
    "name = \"James\"\n",
    "interest_rate = 0.04"
   ]
  },
  {
   "cell_type": "code",
   "execution_count": 2,
   "id": "fbf78b7c",
   "metadata": {},
   "outputs": [],
   "source": [
    "def print_savings_details():\n",
    "    \n",
    "    print(\"Name on account: \", name)\n",
    "    \n",
    "    savings = salary - expense\n",
    "    print(\"Savings: \", savings)\n",
    "    \n",
    "    print(\"Interest rate: \", interest_rate)"
   ]
  },
  {
   "cell_type": "code",
   "execution_count": 3,
   "id": "2c9545a1",
   "metadata": {},
   "outputs": [
    {
     "name": "stdout",
     "output_type": "stream",
     "text": [
      "Name on account:  James\n",
      "Savings:  800\n",
      "Interest rate:  0.04\n"
     ]
    }
   ],
   "source": [
    "print_savings_details()"
   ]
  },
  {
   "cell_type": "code",
   "execution_count": 4,
   "id": "dd3640ac",
   "metadata": {},
   "outputs": [],
   "source": [
    "def print_savings_details(name, salary, expense, interest_rate):\n",
    "    \n",
    "    print(\"Name on account: \", name)\n",
    "    \n",
    "    savings = salary - expense\n",
    "    print(\"Savings: \", savings)\n",
    "    \n",
    "    print(\"Interest rate: \", interest_rate)"
   ]
  },
  {
   "cell_type": "code",
   "execution_count": 5,
   "id": "189430c9",
   "metadata": {},
   "outputs": [
    {
     "name": "stdout",
     "output_type": "stream",
     "text": [
      "Name on account:  James\n",
      "Savings:  800\n",
      "Interest rate:  0.04\n"
     ]
    }
   ],
   "source": [
    "print_savings_details(name, salary, expense, interest_rate)"
   ]
  },
  {
   "cell_type": "code",
   "execution_count": 6,
   "id": "9f948647",
   "metadata": {},
   "outputs": [
    {
     "name": "stdout",
     "output_type": "stream",
     "text": [
      "Name on account:  Julie\n",
      "Savings:  8000\n",
      "Interest rate:  0.02\n"
     ]
    }
   ],
   "source": [
    "print_savings_details(\"Julie\", 10000, 2000, 0.02)"
   ]
  },
  {
   "cell_type": "code",
   "execution_count": 7,
   "id": "d97dbdcb",
   "metadata": {},
   "outputs": [],
   "source": [
    "def print_savings_details(name, salary, expense, interest_rate):\n",
    "    \n",
    "    print(\"Name on account: \", name)\n",
    "    \n",
    "    expense = expense + 100\n",
    "    \n",
    "    savings = salary - expense\n",
    "    print(\"Savings: \", savings)\n",
    "    \n",
    "    print(\"Interest rate: \", interest_rate)"
   ]
  },
  {
   "cell_type": "code",
   "execution_count": 9,
   "id": "c48d4d98",
   "metadata": {},
   "outputs": [
    {
     "name": "stdout",
     "output_type": "stream",
     "text": [
      "Name on account:  James\n",
      "Savings:  700\n",
      "Interest rate:  0.04\n"
     ]
    }
   ],
   "source": [
    "print_savings_details(name, salary, expense, interest_rate)"
   ]
  },
  {
   "cell_type": "code",
   "execution_count": 10,
   "id": "dca1529e",
   "metadata": {},
   "outputs": [
    {
     "data": {
      "text/plain": [
       "('James', 1000, 200, 0.04)"
      ]
     },
     "execution_count": 10,
     "metadata": {},
     "output_type": "execute_result"
    }
   ],
   "source": [
    "name, salary, expense, interest_rate"
   ]
  },
  {
   "cell_type": "code",
   "execution_count": 12,
   "id": "38094fb1",
   "metadata": {},
   "outputs": [],
   "source": [
    "def print_savings_details(name, salary, expense, interest_rate):\n",
    "    \n",
    "    name = \"Harish\"\n",
    "    print(\"Name on account: \", name)\n",
    "    \n",
    "    salary = salary * 2\n",
    "    expense = expense + 100\n",
    "    \n",
    "    savings = salary - expense\n",
    "    print(\"Savings: \", savings)\n",
    "    \n",
    "    interest_rate = 0.09\n",
    "    print(\"Interest rate: \", interest_rate)"
   ]
  },
  {
   "cell_type": "code",
   "execution_count": 13,
   "id": "58ec85b1",
   "metadata": {},
   "outputs": [
    {
     "name": "stdout",
     "output_type": "stream",
     "text": [
      "Name on account:  Harish\n",
      "Savings:  1700\n",
      "Interest rate:  0.09\n"
     ]
    }
   ],
   "source": [
    "print_savings_details(name, salary, expense, interest_rate)"
   ]
  },
  {
   "cell_type": "code",
   "execution_count": 14,
   "id": "86f74bcf",
   "metadata": {},
   "outputs": [
    {
     "data": {
      "text/plain": [
       "('James', 1000, 200, 0.04)"
      ]
     },
     "execution_count": 14,
     "metadata": {},
     "output_type": "execute_result"
    }
   ],
   "source": [
    "name, salary, expense, interest_rate"
   ]
  },
  {
   "cell_type": "code",
   "execution_count": 15,
   "id": "ec201a5f",
   "metadata": {},
   "outputs": [],
   "source": [
    "#Changes made to the local variables are not reflected in the global variables"
   ]
  },
  {
   "cell_type": "code",
   "execution_count": 16,
   "id": "72b82686",
   "metadata": {},
   "outputs": [],
   "source": [
    "fruits_list = [\"Apple\",\"Grapes\",\"Mango\",\"Bananas\"]"
   ]
  },
  {
   "cell_type": "code",
   "execution_count": 17,
   "id": "83b985ba",
   "metadata": {},
   "outputs": [
    {
     "name": "stdout",
     "output_type": "stream",
     "text": [
      "Inside the function:  ['Kiwi', 'Strawberry']\n",
      "\n",
      "Outside the function:  ['Apple', 'Grapes', 'Mango', 'Bananas']\n"
     ]
    }
   ],
   "source": [
    "def change_list(fruits_list):\n",
    "    \n",
    "    fruits_list = [\"Kiwi\",\"Strawberry\"]\n",
    "    \n",
    "    print(\"Inside the function: \", fruits_list)\n",
    "    \n",
    "change_list(fruits_list)\n",
    "print()\n",
    "print(\"Outside the function: \", fruits_list)"
   ]
  },
  {
   "cell_type": "code",
   "execution_count": 18,
   "id": "ad1baac9",
   "metadata": {},
   "outputs": [],
   "source": [
    "fruits_list = ['Apple','Grapes']"
   ]
  },
  {
   "cell_type": "code",
   "execution_count": 20,
   "id": "336c8d77",
   "metadata": {},
   "outputs": [
    {
     "name": "stdout",
     "output_type": "stream",
     "text": [
      "Inside the function:  ['Kiwi', 'Strawberry']\n"
     ]
    }
   ],
   "source": [
    "change_list(fruits_list)"
   ]
  },
  {
   "cell_type": "code",
   "execution_count": 22,
   "id": "3d0ee49c",
   "metadata": {},
   "outputs": [
    {
     "data": {
      "text/plain": [
       "['Apple', 'Grapes']"
      ]
     },
     "execution_count": 22,
     "metadata": {},
     "output_type": "execute_result"
    }
   ],
   "source": [
    "fruits_list"
   ]
  },
  {
   "cell_type": "code",
   "execution_count": 23,
   "id": "ef5ff7ef",
   "metadata": {},
   "outputs": [],
   "source": [
    "fruits_tuple = (\"Apple\",\"Grapes\",\"Mango\",\"Bananas\")"
   ]
  },
  {
   "cell_type": "code",
   "execution_count": 24,
   "id": "15772685",
   "metadata": {},
   "outputs": [
    {
     "name": "stdout",
     "output_type": "stream",
     "text": [
      "Inside the function:  ('Kiwi', 'Strawberry')\n",
      "\n",
      "Outside the function:  ('Apple', 'Grapes', 'Mango', 'Bananas')\n"
     ]
    }
   ],
   "source": [
    "def change_tuple(fruits_tuple):\n",
    "    \n",
    "    fruits_tuple = (\"Kiwi\",\"Strawberry\")\n",
    "    \n",
    "    print(\"Inside the function: \", fruits_tuple)\n",
    "    \n",
    "change_tuple(fruits_tuple)\n",
    "print()\n",
    "print(\"Outside the function: \", fruits_tuple)"
   ]
  },
  {
   "cell_type": "code",
   "execution_count": 25,
   "id": "1ab18c94",
   "metadata": {},
   "outputs": [
    {
     "name": "stdout",
     "output_type": "stream",
     "text": [
      "Inside the function:  This is not even a tuple\n",
      "\n",
      "Outside the function:  ('Apple', 'Grapes', 'Mango', 'Bananas')\n"
     ]
    }
   ],
   "source": [
    "def change_tuple(fruits_tuple):\n",
    "    \n",
    "    fruits_tuple = \"This is not even a tuple\"\n",
    "    \n",
    "    print(\"Inside the function: \", fruits_tuple)\n",
    "    \n",
    "change_tuple(fruits_tuple)\n",
    "print()\n",
    "print(\"Outside the function: \", fruits_tuple)"
   ]
  },
  {
   "cell_type": "markdown",
   "id": "f0249ac9",
   "metadata": {},
   "source": [
    "# fruits_tuple has been passed in by value - The value of the original tuple remains unchanged even when you have changed the value inside the function - This is passing by value"
   ]
  },
  {
   "cell_type": "code",
   "execution_count": 26,
   "id": "50e21303",
   "metadata": {},
   "outputs": [],
   "source": [
    "car_speeds_dictionary = {\n",
    "    \"Swift\": 180,\n",
    "    \"Hector\": 240,\n",
    "    \"Audi\": 320,\n",
    "    \"Ferrari\" : 380\n",
    "}"
   ]
  },
  {
   "cell_type": "code",
   "execution_count": 27,
   "id": "88721134",
   "metadata": {},
   "outputs": [],
   "source": [
    "def change_dictionary(car_speeds_dictionary):\n",
    "    \n",
    "    car_speeds_dictionary = {\n",
    "        \"Bugatti\" : 450\n",
    "    }\n",
    "    \n",
    "    print(\"inside the function: \", car_speeds_dictionary)"
   ]
  },
  {
   "cell_type": "code",
   "execution_count": 28,
   "id": "1a3ac4f8",
   "metadata": {},
   "outputs": [
    {
     "name": "stdout",
     "output_type": "stream",
     "text": [
      "inside the function:  {'Bugatti': 450}\n"
     ]
    }
   ],
   "source": [
    "change_dictionary(car_speeds_dictionary)"
   ]
  },
  {
   "cell_type": "code",
   "execution_count": 29,
   "id": "19bc3c21",
   "metadata": {},
   "outputs": [
    {
     "data": {
      "text/plain": [
       "{'Swift': 180, 'Hector': 240, 'Audi': 320, 'Ferrari': 380}"
      ]
     },
     "execution_count": 29,
     "metadata": {},
     "output_type": "execute_result"
    }
   ],
   "source": [
    "car_speeds_dictionary"
   ]
  },
  {
   "cell_type": "code",
   "execution_count": null,
   "id": "67bdf5f7",
   "metadata": {},
   "outputs": [],
   "source": []
  }
 ],
 "metadata": {
  "kernelspec": {
   "display_name": "Python 3 (ipykernel)",
   "language": "python",
   "name": "python3"
  },
  "language_info": {
   "codemirror_mode": {
    "name": "ipython",
    "version": 3
   },
   "file_extension": ".py",
   "mimetype": "text/x-python",
   "name": "python",
   "nbconvert_exporter": "python",
   "pygments_lexer": "ipython3",
   "version": "3.9.12"
  }
 },
 "nbformat": 4,
 "nbformat_minor": 5
}
