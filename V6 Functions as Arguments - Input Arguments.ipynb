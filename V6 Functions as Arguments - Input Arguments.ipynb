{
 "cells": [
  {
   "cell_type": "markdown",
   "id": "fb120aa7",
   "metadata": {},
   "source": [
    " # Functions in python are first-class citizens just like all other data types"
   ]
  },
  {
   "cell_type": "markdown",
   "id": "58a99a3c",
   "metadata": {},
   "source": []
  },
  {
   "cell_type": "code",
   "execution_count": 1,
   "id": "e421343c",
   "metadata": {},
   "outputs": [],
   "source": [
    "def hello(name):\n",
    "    print(\"Hello\", name)"
   ]
  },
  {
   "cell_type": "code",
   "execution_count": 2,
   "id": "fd89a82f",
   "metadata": {},
   "outputs": [
    {
     "name": "stdout",
     "output_type": "stream",
     "text": [
      "Hello Bruce\n"
     ]
    }
   ],
   "source": [
    "hello(\"Bruce\")"
   ]
  },
  {
   "cell_type": "code",
   "execution_count": 3,
   "id": "bb4151c4",
   "metadata": {},
   "outputs": [
    {
     "data": {
      "text/plain": [
       "<function __main__.hello(name)>"
      ]
     },
     "execution_count": 3,
     "metadata": {},
     "output_type": "execute_result"
    }
   ],
   "source": [
    "hello"
   ]
  },
  {
   "cell_type": "markdown",
   "id": "52fc4814",
   "metadata": {},
   "source": [
    "# Functions can be assigned to variables Just like all other data types in python"
   ]
  },
  {
   "cell_type": "code",
   "execution_count": 4,
   "id": "a5d342b0",
   "metadata": {},
   "outputs": [],
   "source": [
    "greet = hello"
   ]
  },
  {
   "cell_type": "code",
   "execution_count": 5,
   "id": "0db13bc7",
   "metadata": {},
   "outputs": [
    {
     "name": "stdout",
     "output_type": "stream",
     "text": [
      "Hello Tom\n"
     ]
    }
   ],
   "source": [
    "greet(\"Tom\")"
   ]
  },
  {
   "cell_type": "code",
   "execution_count": 7,
   "id": "679484b7",
   "metadata": {},
   "outputs": [],
   "source": [
    "calculate_length = len #you can assign built-in functions as well"
   ]
  },
  {
   "cell_type": "code",
   "execution_count": 8,
   "id": "a745135d",
   "metadata": {},
   "outputs": [
    {
     "data": {
      "text/plain": [
       "10"
      ]
     },
     "execution_count": 8,
     "metadata": {},
     "output_type": "execute_result"
    }
   ],
   "source": [
    "calculate_length(\"SomeString\")"
   ]
  },
  {
   "cell_type": "code",
   "execution_count": 10,
   "id": "4a5c36d4",
   "metadata": {},
   "outputs": [
    {
     "data": {
      "text/plain": [
       "True"
      ]
     },
     "execution_count": 10,
     "metadata": {},
     "output_type": "execute_result"
    }
   ],
   "source": [
    "calculate_length == len"
   ]
  },
  {
   "cell_type": "code",
   "execution_count": 11,
   "id": "2e484554",
   "metadata": {},
   "outputs": [
    {
     "data": {
      "text/plain": [
       "7"
      ]
     },
     "execution_count": 11,
     "metadata": {},
     "output_type": "execute_result"
    }
   ],
   "source": [
    "calculate_length([1,5,6,3,4,7,9])"
   ]
  },
  {
   "cell_type": "code",
   "execution_count": 12,
   "id": "94c518e2",
   "metadata": {},
   "outputs": [],
   "source": [
    "import math"
   ]
  },
  {
   "cell_type": "code",
   "execution_count": 13,
   "id": "e7460e9a",
   "metadata": {},
   "outputs": [],
   "source": [
    "def area_circle_fn(radius):\n",
    "    \n",
    "    return math.pi * radius * radius"
   ]
  },
  {
   "cell_type": "code",
   "execution_count": 14,
   "id": "5f1329ab",
   "metadata": {},
   "outputs": [],
   "source": [
    "def perimeter_circle_fn(radius) :\n",
    "    \n",
    "    return 2 *math.pi * radius"
   ]
  },
  {
   "cell_type": "code",
   "execution_count": 15,
   "id": "3bf6aa1c",
   "metadata": {},
   "outputs": [],
   "source": [
    "def diameter_circle_fn(radius):\n",
    "    \n",
    "    return 2 * radius"
   ]
  },
  {
   "cell_type": "markdown",
   "id": "e1870ba0",
   "metadata": {},
   "source": [
    "# Functions can be passed in as input arguments just like all other data types in python"
   ]
  },
  {
   "cell_type": "code",
   "execution_count": 16,
   "id": "867643f3",
   "metadata": {},
   "outputs": [],
   "source": [
    "def calculate_for_circle(radius, fn):\n",
    "    return fn(radius)"
   ]
  },
  {
   "cell_type": "code",
   "execution_count": 17,
   "id": "11b1b711",
   "metadata": {},
   "outputs": [],
   "source": [
    "# fn(radius) will invoke the function that you passed in with radius as the input argument"
   ]
  },
  {
   "cell_type": "code",
   "execution_count": 18,
   "id": "112f1af8",
   "metadata": {},
   "outputs": [
    {
     "data": {
      "text/plain": [
       "20"
      ]
     },
     "execution_count": 18,
     "metadata": {},
     "output_type": "execute_result"
    }
   ],
   "source": [
    "calculate_for_circle(10, diameter_circle_fn)"
   ]
  },
  {
   "cell_type": "code",
   "execution_count": 19,
   "id": "eeebf459",
   "metadata": {},
   "outputs": [
    {
     "data": {
      "text/plain": [
       "62.83185307179586"
      ]
     },
     "execution_count": 19,
     "metadata": {},
     "output_type": "execute_result"
    }
   ],
   "source": [
    "calculate_for_circle(10, perimeter_circle_fn)"
   ]
  },
  {
   "cell_type": "code",
   "execution_count": 20,
   "id": "e8131f4e",
   "metadata": {},
   "outputs": [
    {
     "data": {
      "text/plain": [
       "314.1592653589793"
      ]
     },
     "execution_count": 20,
     "metadata": {},
     "output_type": "execute_result"
    }
   ],
   "source": [
    "calculate_for_circle(10, area_circle_fn )"
   ]
  },
  {
   "cell_type": "code",
   "execution_count": 21,
   "id": "0fd9c776",
   "metadata": {},
   "outputs": [
    {
     "data": {
      "text/plain": [
       "125.66370614359172"
      ]
     },
     "execution_count": 21,
     "metadata": {},
     "output_type": "execute_result"
    }
   ],
   "source": [
    "calculate_for_circle(20, perimeter_circle_fn)"
   ]
  },
  {
   "cell_type": "code",
   "execution_count": null,
   "id": "77b86fa0",
   "metadata": {},
   "outputs": [],
   "source": []
  }
 ],
 "metadata": {
  "kernelspec": {
   "display_name": "Python 3 (ipykernel)",
   "language": "python",
   "name": "python3"
  },
  "language_info": {
   "codemirror_mode": {
    "name": "ipython",
    "version": 3
   },
   "file_extension": ".py",
   "mimetype": "text/x-python",
   "name": "python",
   "nbconvert_exporter": "python",
   "pygments_lexer": "ipython3",
   "version": "3.9.12"
  }
 },
 "nbformat": 4,
 "nbformat_minor": 5
}
