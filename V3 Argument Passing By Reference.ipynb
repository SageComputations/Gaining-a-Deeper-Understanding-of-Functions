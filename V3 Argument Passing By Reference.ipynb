{
 "cells": [
  {
   "cell_type": "code",
   "execution_count": 1,
   "id": "50767d48",
   "metadata": {},
   "outputs": [],
   "source": [
    "fruits_list = ['Apple','Grapes','Mango','Banana']"
   ]
  },
  {
   "cell_type": "code",
   "execution_count": 2,
   "id": "3e745704",
   "metadata": {},
   "outputs": [
    {
     "name": "stdout",
     "output_type": "stream",
     "text": [
      "Inside the function:  ['Kiwi', 'Grapes', 'Mango', 'Banana']\n",
      "\n",
      "Outside the function:  ['Kiwi', 'Grapes', 'Mango', 'Banana']\n"
     ]
    }
   ],
   "source": [
    "def change_list(fruits_list):\n",
    "    \n",
    "    fruits_list[0] = \"Kiwi\"\n",
    "    \n",
    "    print(\"Inside the function: \", fruits_list)\n",
    "    \n",
    "change_list(fruits_list)\n",
    "print()\n",
    "print(\"Outside the function: \", fruits_list)"
   ]
  },
  {
   "cell_type": "markdown",
   "id": "afe772ff",
   "metadata": {},
   "source": [
    "# Modifying the complex data type modifies the actual data outside the function as well"
   ]
  },
  {
   "cell_type": "markdown",
   "id": "e90d783f",
   "metadata": {},
   "source": [
    "# fruits_list = [\"Kiwi]  This is reassigning the list inside the function - does not affect the original list"
   ]
  },
  {
   "cell_type": "code",
   "execution_count": 3,
   "id": "8b66549f",
   "metadata": {},
   "outputs": [],
   "source": [
    "fruits_list = [\"Apple\", \"Grapes\"]"
   ]
  },
  {
   "cell_type": "code",
   "execution_count": 4,
   "id": "3d5e025b",
   "metadata": {},
   "outputs": [
    {
     "name": "stdout",
     "output_type": "stream",
     "text": [
      "Inside the function:  ['Kiwi', 'Grapes']\n"
     ]
    }
   ],
   "source": [
    "change_list(fruits_list)"
   ]
  },
  {
   "cell_type": "code",
   "execution_count": 6,
   "id": "e09eea83",
   "metadata": {},
   "outputs": [
    {
     "data": {
      "text/plain": [
       "['Kiwi', 'Grapes']"
      ]
     },
     "execution_count": 6,
     "metadata": {},
     "output_type": "execute_result"
    }
   ],
   "source": [
    "fruits_list #The actual contents of the list in memory changes"
   ]
  },
  {
   "cell_type": "code",
   "execution_count": 7,
   "id": "8c7b610f",
   "metadata": {},
   "outputs": [
    {
     "name": "stdout",
     "output_type": "stream",
     "text": [
      "Inside the function:  ['Kiwi', 'Grapes', 'Kiwi']\n",
      "\n",
      "Outside the function:  ['Kiwi', 'Grapes', 'Kiwi']\n"
     ]
    }
   ],
   "source": [
    "def change_list(fruits_list):\n",
    "    \n",
    "    fruits_list.append(\"Kiwi\") \n",
    "    \n",
    "    print(\"Inside the function: \", fruits_list)\n",
    "    \n",
    "change_list(fruits_list)\n",
    "print()\n",
    "print(\"Outside the function: \", fruits_list)"
   ]
  },
  {
   "cell_type": "code",
   "execution_count": 8,
   "id": "2e9184d2",
   "metadata": {},
   "outputs": [
    {
     "name": "stdout",
     "output_type": "stream",
     "text": [
      "Inside the function:  ['Kiwi', 'Kiwi']\n",
      "\n",
      "Outside the function:  ['Kiwi', 'Kiwi']\n"
     ]
    }
   ],
   "source": [
    "def change_list(fruits_list):\n",
    "    \n",
    "    fruits_list.remove(\"Grapes\") \n",
    "    \n",
    "    print(\"Inside the function: \", fruits_list)\n",
    "    \n",
    "change_list(fruits_list)\n",
    "print()\n",
    "print(\"Outside the function: \", fruits_list)"
   ]
  },
  {
   "cell_type": "code",
   "execution_count": 9,
   "id": "a5a7ceb3",
   "metadata": {},
   "outputs": [],
   "source": [
    "fruits_list = ['Apple','Grapes','Mango','Banana']\n",
    "\n",
    "def sort_items_and_remove_last(my_list):\n",
    "    my_list.sort()\n",
    "    my_list.pop()\n",
    "    \n",
    "    print(\"Inside the function\", my_list)"
   ]
  },
  {
   "cell_type": "code",
   "execution_count": 10,
   "id": "4d475e49",
   "metadata": {},
   "outputs": [
    {
     "name": "stdout",
     "output_type": "stream",
     "text": [
      "Inside the function ['Apple', 'Banana', 'Grapes']\n"
     ]
    }
   ],
   "source": [
    "sort_items_and_remove_last(fruits_list)"
   ]
  },
  {
   "cell_type": "code",
   "execution_count": 11,
   "id": "9ba2cdbb",
   "metadata": {},
   "outputs": [
    {
     "data": {
      "text/plain": [
       "['Apple', 'Banana', 'Grapes']"
      ]
     },
     "execution_count": 11,
     "metadata": {},
     "output_type": "execute_result"
    }
   ],
   "source": [
    "fruits_list"
   ]
  },
  {
   "cell_type": "code",
   "execution_count": 12,
   "id": "61e141d2",
   "metadata": {},
   "outputs": [],
   "source": [
    "car_speeds_dictionary = {\n",
    "    \"Swift\": 180,\n",
    "    \"Hector\": 240,\n",
    "    \"Audi\": 320,\n",
    "    \"Ferrari\" : 380\n",
    "}"
   ]
  },
  {
   "cell_type": "code",
   "execution_count": 13,
   "id": "c1a5cc52",
   "metadata": {},
   "outputs": [],
   "source": [
    "def change_dictionary(car_speeds_dictionary):\n",
    "    \n",
    "    car_speeds_dictionary[\"Mustang\"] = 200\n",
    "    \n",
    "    print(\"Inside the function: \", car_speeds_dictionary)"
   ]
  },
  {
   "cell_type": "code",
   "execution_count": 14,
   "id": "50c57ff7",
   "metadata": {},
   "outputs": [
    {
     "name": "stdout",
     "output_type": "stream",
     "text": [
      "Inside the function:  {'Swift': 180, 'Hector': 240, 'Audi': 320, 'Ferrari': 380, 'Mustang': 200}\n"
     ]
    }
   ],
   "source": [
    "change_dictionary(car_speeds_dictionary)"
   ]
  },
  {
   "cell_type": "code",
   "execution_count": 15,
   "id": "35ce2b87",
   "metadata": {},
   "outputs": [
    {
     "data": {
      "text/plain": [
       "{'Swift': 180, 'Hector': 240, 'Audi': 320, 'Ferrari': 380, 'Mustang': 200}"
      ]
     },
     "execution_count": 15,
     "metadata": {},
     "output_type": "execute_result"
    }
   ],
   "source": [
    "car_speeds_dictionary"
   ]
  },
  {
   "cell_type": "markdown",
   "id": "edd900b0",
   "metadata": {},
   "source": [
    "# When you change the contents of dictionary from within a function the contents of the dictionary in the memory also changes"
   ]
  },
  {
   "cell_type": "code",
   "execution_count": 16,
   "id": "4b154ab1",
   "metadata": {},
   "outputs": [],
   "source": [
    "def change_dictionary(some_dictionary):\n",
    "    \n",
    "    some_dictionary[\"Swift\"] = 100\n",
    "    \n",
    "    print(\"Inside the function: \", some_dictionary)"
   ]
  },
  {
   "cell_type": "code",
   "execution_count": 17,
   "id": "428d4910",
   "metadata": {},
   "outputs": [
    {
     "name": "stdout",
     "output_type": "stream",
     "text": [
      "Inside the function:  {'Swift': 100, 'Hector': 240, 'Audi': 320, 'Ferrari': 380, 'Mustang': 200}\n"
     ]
    },
    {
     "data": {
      "text/plain": [
       "{'Swift': 100, 'Hector': 240, 'Audi': 320, 'Ferrari': 380, 'Mustang': 200}"
      ]
     },
     "execution_count": 17,
     "metadata": {},
     "output_type": "execute_result"
    }
   ],
   "source": [
    "change_dictionary(car_speeds_dictionary)\n",
    "\n",
    "car_speeds_dictionary"
   ]
  },
  {
   "cell_type": "code",
   "execution_count": 18,
   "id": "eed2b899",
   "metadata": {},
   "outputs": [],
   "source": [
    "# The fact that we use some_dictionary within the function\n",
    "# and car_speeds_dictionary outside the function is irrelevant"
   ]
  },
  {
   "cell_type": "code",
   "execution_count": 19,
   "id": "9f25fd12",
   "metadata": {},
   "outputs": [],
   "source": [
    "def change_dictionary(some_dictionary):\n",
    "    \n",
    "    del some_dictionary[\"Swift\"] \n",
    "    \n",
    "    print(\"Inside the function: \", some_dictionary)"
   ]
  },
  {
   "cell_type": "code",
   "execution_count": 20,
   "id": "14513396",
   "metadata": {},
   "outputs": [
    {
     "name": "stdout",
     "output_type": "stream",
     "text": [
      "Inside the function:  {'Hector': 240, 'Audi': 320, 'Ferrari': 380, 'Mustang': 200}\n"
     ]
    },
    {
     "data": {
      "text/plain": [
       "{'Hector': 240, 'Audi': 320, 'Ferrari': 380, 'Mustang': 200}"
      ]
     },
     "execution_count": 20,
     "metadata": {},
     "output_type": "execute_result"
    }
   ],
   "source": [
    "change_dictionary(car_speeds_dictionary)\n",
    "\n",
    "car_speeds_dictionary"
   ]
  },
  {
   "cell_type": "code",
   "execution_count": null,
   "id": "77d74fb9",
   "metadata": {},
   "outputs": [],
   "source": []
  }
 ],
 "metadata": {
  "kernelspec": {
   "display_name": "Python 3 (ipykernel)",
   "language": "python",
   "name": "python3"
  },
  "language_info": {
   "codemirror_mode": {
    "name": "ipython",
    "version": 3
   },
   "file_extension": ".py",
   "mimetype": "text/x-python",
   "name": "python",
   "nbconvert_exporter": "python",
   "pygments_lexer": "ipython3",
   "version": "3.9.12"
  }
 },
 "nbformat": 4,
 "nbformat_minor": 5
}
