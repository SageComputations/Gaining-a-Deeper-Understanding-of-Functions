{
 "cells": [
  {
   "cell_type": "code",
   "execution_count": 1,
   "id": "14c162e7",
   "metadata": {},
   "outputs": [
    {
     "name": "stdout",
     "output_type": "stream",
     "text": [
      "\n",
      "Please wait a moment while I gather a list of all available modules...\n",
      "\n"
     ]
    },
    {
     "name": "stderr",
     "output_type": "stream",
     "text": [
      "C:\\Users\\anand\\anaconda3\\lib\\site-packages\\Cryptodome\\SelfTest\\PublicKey\\test_ECC_NIST.py:764: UserWarning: Warning: skipping extended tests for P-192 tests from point-at-infinity.org\n",
      "  tv_pai = load_test_vectors((\"PublicKey\", \"ECC\"),\n",
      "C:\\Users\\anand\\anaconda3\\lib\\site-packages\\Cryptodome\\SelfTest\\PublicKey\\test_ECC_NIST.py:785: UserWarning: Warning: skipping extended tests for P-224 tests from point-at-infinity.org\n",
      "  tv_pai = load_test_vectors((\"PublicKey\", \"ECC\"),\n",
      "C:\\Users\\anand\\anaconda3\\lib\\site-packages\\Cryptodome\\SelfTest\\PublicKey\\test_ECC_NIST.py:806: UserWarning: Warning: skipping extended tests for P-256 tests from point-at-infinity.org\n",
      "  tv_pai = load_test_vectors((\"PublicKey\", \"ECC\"),\n",
      "C:\\Users\\anand\\anaconda3\\lib\\site-packages\\Cryptodome\\SelfTest\\PublicKey\\test_ECC_NIST.py:827: UserWarning: Warning: skipping extended tests for P-384 tests from point-at-infinity.org\n",
      "  tv_pai = load_test_vectors((\"PublicKey\", \"ECC\"),\n",
      "C:\\Users\\anand\\anaconda3\\lib\\site-packages\\Cryptodome\\SelfTest\\PublicKey\\test_ECC_NIST.py:848: UserWarning: Warning: skipping extended tests for P-521 tests from point-at-infinity.org\n",
      "  tv_pai = load_test_vectors((\"PublicKey\", \"ECC\"),\n",
      "C:\\Users\\anand\\anaconda3\\lib\\site-packages\\Cryptodome\\SelfTest\\Signature\\test_pkcs1_15.py:70: UserWarning: Warning: skipping extended tests for Signature Verification 186-3\n",
      "  test_vectors_verify = load_test_vectors((\"Signature\", \"PKCS1-v1.5\"),\n",
      "C:\\Users\\anand\\anaconda3\\lib\\site-packages\\Cryptodome\\SelfTest\\Signature\\test_pkcs1_15.py:117: UserWarning: Warning: skipping extended tests for Signature Generation 186-2\n",
      "  test_vectors_sign  = load_test_vectors((\"Signature\", \"PKCS1-v1.5\"),\n",
      "C:\\Users\\anand\\anaconda3\\lib\\site-packages\\Cryptodome\\SelfTest\\Signature\\test_pkcs1_15.py:122: UserWarning: Warning: skipping extended tests for Signature Generation 186-3\n",
      "  test_vectors_sign += load_test_vectors((\"Signature\", \"PKCS1-v1.5\"),\n",
      "C:\\Users\\anand\\anaconda3\\lib\\site-packages\\Cryptodome\\SelfTest\\Signature\\test_pss.py:117: UserWarning: Warning: skipping extended tests for Signature Verification 186-3\n",
      "  test_vectors_verify = load_test_vectors((\"Signature\", \"PKCS1-PSS\"),\n",
      "C:\\Users\\anand\\anaconda3\\lib\\site-packages\\Cryptodome\\SelfTest\\Signature\\test_pss.py:169: UserWarning: Warning: skipping extended tests for Signature Generation 186-2\n",
      "  test_vectors_sign = load_test_vectors((\"Signature\", \"PKCS1-PSS\"),\n",
      "C:\\Users\\anand\\anaconda3\\lib\\site-packages\\Cryptodome\\SelfTest\\Signature\\test_pss.py:174: UserWarning: Warning: skipping extended tests for Signature Generation 186-3\n",
      "  test_vectors_sign += load_test_vectors((\"Signature\", \"PKCS1-PSS\"),\n",
      "C:\\Users\\anand\\anaconda3\\lib\\site-packages\\Cryptodome\\SelfTest\\Signature\\test_dss.py:159: UserWarning: Warning: skipping extended tests for Signature Verification 186-3\n",
      "  test_vectors_verify = load_test_vectors((\"Signature\", \"DSA\"),\n",
      "C:\\Users\\anand\\anaconda3\\lib\\site-packages\\Cryptodome\\SelfTest\\Signature\\test_dss.py:197: UserWarning: Warning: skipping extended tests for Signature Creation 186-3\n",
      "  test_vectors_sign = load_test_vectors((\"Signature\", \"DSA\"),\n",
      "C:\\Users\\anand\\anaconda3\\lib\\site-packages\\Cryptodome\\SelfTest\\Signature\\test_dss.py:307: UserWarning: Warning: skipping extended tests for ECDSA Signature Verification 186-3\n",
      "  test_vectors_verify = load_test_vectors((\"Signature\", \"ECDSA\"),\n",
      "C:\\Users\\anand\\anaconda3\\lib\\site-packages\\Cryptodome\\SelfTest\\Signature\\test_dss.py:314: UserWarning: Warning: skipping extended tests for ECDSA Signature Verification 186-3\n",
      "  test_vectors_verify += load_test_vectors((\"Signature\", \"ECDSA\"),\n",
      "C:\\Users\\anand\\anaconda3\\lib\\site-packages\\Cryptodome\\SelfTest\\Signature\\test_dss.py:357: UserWarning: Warning: skipping extended tests for ECDSA Signature Verification 186-3\n",
      "  test_vectors_sign = load_test_vectors((\"Signature\", \"ECDSA\"),\n",
      "WARNING: AstropyDeprecationWarning: The private astropy._erfa module has been made into its own package, pyerfa, which is a dependency of astropy and can be imported directly using \"import erfa\" [astropy._erfa]\n",
      "C:\\Users\\anand\\anaconda3\\lib\\site-packages\\nltk\\twitter\\__init__.py:20: UserWarning: The twython library has not been installed. Some functionality from the twitter package will not be available.\n",
      "  warnings.warn(\n",
      "C:\\Users\\anand\\anaconda3\\lib\\site-packages\\_distutils_hack\\__init__.py:30: UserWarning: Setuptools is replacing distutils.\n",
      "  warnings.warn(\"Setuptools is replacing distutils.\")\n",
      "C:\\Users\\anand\\anaconda3\\lib\\site-packages\\outdated\\utils.py:14: OutdatedPackageWarning: The package pingouin is out of date. Your version is 0.5.2, the latest is 0.5.3.\n",
      "Set the environment variable OUTDATED_IGNORE=1 to disable these warnings.\n",
      "  return warn(\n"
     ]
    },
    {
     "name": "stdout",
     "output_type": "stream",
     "text": [
      "Update LANGUAGE_CODES (inside config/base.py) if a new translation has been added to Spyder\n"
     ]
    },
    {
     "name": "stderr",
     "output_type": "stream",
     "text": [
      "No QCoreApplication instance found. Application patches not applied. You have to call load_stylesheet function after instantiation of QApplication to take effect. \n",
      "C:\\Users\\anand\\anaconda3\\lib\\site-packages\\torch\\distributed\\_sharded_tensor\\__init__.py:8: DeprecationWarning:\n",
      "\n",
      "torch.distributed._sharded_tensor will be deprecated, use torch.distributed._shard.sharded_tensor instead\n",
      "\n",
      "C:\\Users\\anand\\anaconda3\\lib\\site-packages\\torch\\distributed\\_sharding_spec\\__init__.py:8: DeprecationWarning:\n",
      "\n",
      "torch.distributed._sharding_spec will be deprecated, use torch.distributed._shard.sharding_spec instead\n",
      "\n",
      "NOTE: Redirects are currently not supported in Windows or MacOs.\n",
      "C:\\Users\\anand\\anaconda3\\lib\\pkgutil.py:108: VisibleDeprecationWarning:\n",
      "\n",
      "zmq.eventloop.minitornado is deprecated in pyzmq 14.0 and will be removed.\n",
      "    Install tornado itself to use zmq with the tornado IOLoop.\n",
      "    \n",
      "\n"
     ]
    },
    {
     "name": "stdout",
     "output_type": "stream",
     "text": [
      "65cd21382c5717f91ee0__mypyc colorsys            mmapfile            snappy\n",
      "Cryptodome          commctrl            mmsystem            sndhdr\n",
      "Cython              compileall          mock                sniffio\n",
      "IPython             comtypes            modulefinder        snowballstemmer\n",
      "OpenSSL             concurrent          mpmath              socket\n",
      "PIL                 conda               msgpack             socketserver\n",
      "PyQt5               conda_build         msilib              socks\n",
      "TBB                 conda_content_trust msvcrt              sockshandler\n",
      "__future__          conda_env           multidict           sortedcollections\n",
      "_abc                conda_pack          multipledispatch    sortedcontainers\n",
      "_aix_support        conda_package_handling multiprocessing     soupsieve\n",
      "_argon2_cffi_bindings conda_token         munkres             sphinx\n",
      "_ast                conda_verify        mypy                spyder\n",
      "_asyncio            configparser        mypy_extensions     spyder_kernels\n",
      "_bisect             constantly          mypyc               sqlalchemy\n",
      "_black_version      contextlib          nacl                sqlite3\n",
      "_blake2             contextvars         navigator_updater   sre_compile\n",
      "_bootlocale         cookiecutter        nbclassic           sre_constants\n",
      "_bootsubprocess     copy                nbclient            sre_parse\n",
      "_bz2                copyreg             nbconvert           ssl\n",
      "_cffi_backend       crypt               nbformat            sspi\n",
      "_codecs             cryptography        nest_asyncio        sspicon\n",
      "_codecs_cn          cssselect           netbios             stack_data\n",
      "_codecs_hk          csv                 netrc               stat\n",
      "_codecs_iso2022     ctypes              networkx            statistics\n",
      "_codecs_jp          curl                nltk                statsmodels\n",
      "_codecs_kr          curses              nntplib             string\n",
      "_codecs_tw          cwp                 nose                stringprep\n",
      "_collections        cycler              notebook            struct\n",
      "_collections_abc    cython              nt                  subprocess\n",
      "_compat_pickle      cytoolz             ntpath              sunau\n",
      "_compression        daal4py             ntsecuritycon       symbol\n",
      "_contextvars        dall_e              nturl2path          sympy\n",
      "_csv                dask                numba               symtable\n",
      "_ctypes             dataclasses         numbergen           sys\n",
      "_ctypes_test        datashader          numbers             sysconfig\n",
      "_datetime           datashape           numexpr             tables\n",
      "_decimal            datetime            numpy               tabnanny\n",
      "_distutils_hack     dateutil            numpydoc            tabulate\n",
      "_elementtree        dbi                 odbc                tarfile\n",
      "_functools          dbm                 olefile             tbb\n",
      "_hashlib            dde                 onedal              tblib\n",
      "_heapq              debugpy             opcode              telnetlib\n",
      "_imp                decimal             openpyxl            tempfile\n",
      "_io                 decorator           operator            tenacity\n",
      "_json               defusedxml          optparse            terminado\n",
      "_locale             diff_match_patch    os                  test\n",
      "_lsprof             difflib             outdated            test_pycosat\n",
      "_lzma               dis                 packaging           testpath\n",
      "_markupbase         distributed         pandas              text_unidecode\n",
      "_md5                distutils           pandas_flavor       textdistance\n",
      "_msi                doctest             pandocfilters       textwrap\n",
      "_multibytecodec     docutils            panel               this\n",
      "_multiprocessing    email               param               threading\n",
      "_nsis               encodings           paramiko            threadpoolctl\n",
      "_opcode             ensurepip           parsel              three_merge\n",
      "_operator           entrypoints         parser              tifffile\n",
      "_osx_support        enum                parso               time\n",
      "_overlapped         erfa                partd               timeit\n",
      "_peg_parser         errno               past                timer\n",
      "_pickle             et_xmlfile          pathlib             tinycss\n",
      "_plotly_future_     executing           pathspec            tkinter\n",
      "_plotly_utils       fastjsonschema      patsy               tldextract\n",
      "_py_abc             faulthandler        pdb                 tlz\n",
      "_pydecimal          filecmp             pep8                token\n",
      "_pyio               fileinput           perfmon             tokenize\n",
      "_pyrsistent_version filelock            pexpect             toml\n",
      "_pytest             flake8              pickle              tomli\n",
      "_queue              flask               pickleshare         toolz\n",
      "_random             fnmatch             pickletools         torch\n",
      "_sha1               fontTools           pingouin            torchgen\n",
      "_sha256             formatter           pip                 torchvision\n",
      "_sha3               fractions           pipes               tornado\n",
      "_sha512             frozenlist          pkg_resources       tqdm\n",
      "_signal             fsspec              pkginfo             trace\n",
      "_sitebuiltins       ftplib              pkgutil             traceback\n",
      "_socket             functools           platform            tracemalloc\n",
      "_sqlite3            functorch           plistlib            traitlets\n",
      "_sre                future              plotly              tty\n",
      "_ssl                gc                  pluggy              turtle\n",
      "_stat               genericpath         poplib              turtledemo\n",
      "_statistics         gensim              posixpath           twisted\n",
      "_string             getopt              poyo                typed_ast\n",
      "_strptime           getpass             pprint              types\n",
      "_struct             gettext             profile             typing\n",
      "_symtable           glob                prometheus_client   typing_extensions\n",
      "_system_path        glob2               prompt_toolkit      ujson\n",
      "_testbuffer         google_crc32c       protego             unicodedata\n",
      "_testcapi           graphlib            pstats              unidecode\n",
      "_testconsole        greenlet            psutil              unittest\n",
      "_testimportmultiple grpc                pty                 urllib\n",
      "_testinternalcapi   gzip                ptyprocess          urllib3\n",
      "_testmultiphase     h5py                pure_eval           uu\n",
      "_thread             hamcrest            pvectorc            uuid\n",
      "_threading_local    hashlib             py                  venv\n",
      "_tkinter            heapdict            py_compile          w3lib\n",
      "_tracemalloc        heapq               pyasn1              warnings\n",
      "_uuid               hmac                pyasn1_modules      watchdog\n",
      "_warnings           holoviews           pyclbr              wave\n",
      "_weakref            html                pycodestyle         wcwidth\n",
      "_weakrefset         http                pycosat             weakref\n",
      "_win32sysloader     hvplot              pycparser           webbrowser\n",
      "_winapi             hyperlink           pyct                webencodings\n",
      "_winxptheme         idlelib             pycurl              websocket\n",
      "_xxsubinterpreters  idna                pydispatch          werkzeug\n",
      "_yaml               imagecodecs         pydoc               wheel\n",
      "_zoneinfo           imageio             pydoc_data          widgetsnbextension\n",
      "abc                 imagesize           pydocstyle          win2kras\n",
      "adodbapi            imaplib             pydotplus           win32api\n",
      "afxres              imghdr              pyexpat             win32clipboard\n",
      "aifc                imp                 pyflakes            win32com\n",
      "aiohttp             importlib           pygments            win32con\n",
      "aiosignal           importlib_metadata  pylab               win32console\n",
      "alabaster           incremental         pylint              win32cred\n",
      "anaconda_navigator  inflection          pyls_spyder         win32crypt\n",
      "anaconda_project    iniconfig           pylsp               win32cryptcon\n",
      "antigravity         inspect             pylsp_black         win32ctypes\n",
      "anyio               intake              pylsp_jsonrpc       win32event\n",
      "appdirs             intervaltree        pyodbc              win32evtlog\n",
      "argon2              io                  pyparsing           win32evtlogutil\n",
      "argparse            ipaddress           pyreadline          win32file\n",
      "array               ipykernel           pyrsistent          win32gui\n",
      "arrow               ipykernel_launcher  pytest              win32gui_struct\n",
      "ast                 ipython_genutils    pythoncom           win32help\n",
      "astroid             ipywidgets          pytz                win32inet\n",
      "astropy             isapi               pyviz_comms         win32inetcon\n",
      "asttokens           isort               pywin               win32job\n",
      "async_timeout       isympy              pywin32_bootstrap   win32lz\n",
      "asynchat            itemadapter         pywin32_testutil    win32net\n",
      "asyncio             itemloaders         pywintypes          win32netcon\n",
      "asyncore            itertools           pywt                win32pdh\n",
      "atexit              itsdangerous        pyximport           win32pdhquery\n",
      "atomicwrites        jdcal               qdarkstyle          win32pdhutil\n",
      "attr                jedi                qstylizer           win32pipe\n",
      "attrs               jinja2              qtawesome           win32print\n",
      "audioop             jinja2_time         qtconsole           win32process\n",
      "automat             jmespath            qtpy                win32profile\n",
      "autopep8            joblib              queue               win32ras\n",
      "babel               json                queuelib            win32rcparser\n",
      "backcall            json5               quopri              win32security\n",
      "backports           jsonschema          random              win32service\n",
      "base64              jupyter             rasutil             win32serviceutil\n",
      "bcrypt              jupyter_client      re                  win32timezone\n",
      "bdb                 jupyter_console     readline            win32trace\n",
      "binaryornot         jupyter_core        regcheck            win32traceutil\n",
      "binascii            jupyter_server      regex               win32transaction\n",
      "binhex              jupyterlab          regutil             win32ts\n",
      "binstar_client      jupyterlab_plotly   repo_cli            win32ui\n",
      "bisect              jupyterlab_pygments reprlib             win32uiole\n",
      "bitarray            jupyterlab_server   requests            win32verstamp\n",
      "bkcharts            jupyterlab_widgets  requests_file       win32wnet\n",
      "black               jwt                 rlcompleter         win_inet_pton\n",
      "blackd              keyring             rope                win_unicode_console\n",
      "bleach              keyword             rsa                 wincertstore\n",
      "blib2to3            kiwisolver          rtree               winerror\n",
      "blobfile            lazy_loader         ruamel_yaml         winioctlcon\n",
      "bokeh               lazy_object_proxy   run                 winnt\n",
      "boto3               lib2to3             runpy               winperf\n",
      "botocore            libarchive          s3transfer          winpty\n",
      "bottleneck          libfuturize         sched               winreg\n",
      "brotli              libpasteurize       scipy               winsound\n",
      "bs4                 lief                scrapy              winxpgui\n",
      "builtins            linecache           seaborn             winxptheme\n",
      "bz2                 littleutils         secrets             wrapt\n",
      "cProfile            llvmlite            select              wsgiref\n",
      "cachetools          locale              selectors           xarray\n",
      "calendar            locket              send2trash          xdrlib\n",
      "category_encoders   logging             service_identity    xlrd\n",
      "certifi             lxml                servicemanager      xlsxwriter\n",
      "cffi                lzma                setuptools          xlwings\n",
      "cgi                 mailbox             shelve              xml\n",
      "cgitb               mailcap             shlex               xmlrpc\n",
      "chardet             markdown            shutil              xxsubtype\n",
      "charset_normalizer  markupsafe          signal              yaml\n",
      "chunk               marshal             sip                 yapf\n",
      "click               math                sipconfig           yapftests\n",
      "cloudpickle         matplotlib          sipdistutils        yarl\n",
      "clyent              matplotlib_inline   site                zict\n",
      "cmath               mccabe              six                 zipapp\n",
      "cmd                 menuinst            skimage             zipfile\n",
      "code                mimetypes           sklearn             zipimport\n",
      "codecs              mistune             sklearnex           zipp\n",
      "codeop              mkl                 slugify             zlib\n",
      "collections         mkl_fft             smart_open          zmq\n",
      "colorama            mkl_random          smtpd               zoneinfo\n",
      "colorcet            mmap                smtplib             zope\n",
      "\n",
      "Enter any module name to get more help.  Or, type \"modules spam\" to search\n",
      "for modules whose name or summary contain the string \"spam\".\n",
      "\n"
     ]
    },
    {
     "name": "stderr",
     "output_type": "stream",
     "text": [
      "C:\\Users\\anand\\anaconda3\\lib\\site-packages\\Pythonwin\\pywin\\scintilla\\view.py:818: ResourceWarning:\n",
      "\n",
      "unclosed file <_io.TextIOWrapper name='C:\\\\Users\\\\anand\\\\anaconda3\\\\lib\\\\site-packages\\\\Pythonwin\\\\pywin\\\\default.cfg' mode='r' encoding='cp1252'>\n",
      "\n"
     ]
    }
   ],
   "source": [
    "help(\"modules\")"
   ]
  },
  {
   "cell_type": "code",
   "execution_count": 2,
   "id": "0cf6fdda",
   "metadata": {},
   "outputs": [],
   "source": [
    "import math"
   ]
  },
  {
   "cell_type": "code",
   "execution_count": 3,
   "id": "606a6b5b",
   "metadata": {},
   "outputs": [
    {
     "name": "stdout",
     "output_type": "stream",
     "text": [
      "Pi: 3.141592653589793\n"
     ]
    }
   ],
   "source": [
    "print(\"Pi:\", math.pi)"
   ]
  },
  {
   "cell_type": "code",
   "execution_count": 4,
   "id": "c15e7b0a",
   "metadata": {},
   "outputs": [
    {
     "name": "stdout",
     "output_type": "stream",
     "text": [
      "e:  2.718281828459045\n"
     ]
    }
   ],
   "source": [
    "print(\"e: \", math.e)"
   ]
  },
  {
   "cell_type": "code",
   "execution_count": 5,
   "id": "2ebab328",
   "metadata": {},
   "outputs": [
    {
     "data": {
      "text/plain": [
       "9"
      ]
     },
     "execution_count": 5,
     "metadata": {},
     "output_type": "execute_result"
    }
   ],
   "source": [
    "math.ceil(8.1)"
   ]
  },
  {
   "cell_type": "markdown",
   "id": "568f4876",
   "metadata": {},
   "source": [
    "# A python module is a file\n",
    "### Containing Python code for variables, functions and objects"
   ]
  },
  {
   "cell_type": "code",
   "execution_count": 7,
   "id": "c697d03e",
   "metadata": {},
   "outputs": [
    {
     "data": {
      "text/plain": [
       "8"
      ]
     },
     "execution_count": 7,
     "metadata": {},
     "output_type": "execute_result"
    }
   ],
   "source": [
    "math.floor(8.1) #Use name of the module as prefix - the one you have imported"
   ]
  },
  {
   "cell_type": "code",
   "execution_count": 8,
   "id": "9c9e986a",
   "metadata": {},
   "outputs": [
    {
     "data": {
      "text/plain": [
       "16.0"
      ]
     },
     "execution_count": 8,
     "metadata": {},
     "output_type": "execute_result"
    }
   ],
   "source": [
    "math.pow(2, 4)"
   ]
  },
  {
   "cell_type": "code",
   "execution_count": 9,
   "id": "b39a70f3",
   "metadata": {},
   "outputs": [
    {
     "data": {
      "text/plain": [
       "5.830951894845301"
      ]
     },
     "execution_count": 9,
     "metadata": {},
     "output_type": "execute_result"
    }
   ],
   "source": [
    "math.sqrt(34)"
   ]
  },
  {
   "cell_type": "code",
   "execution_count": 10,
   "id": "9884ca78",
   "metadata": {},
   "outputs": [
    {
     "data": {
      "text/plain": [
       "120"
      ]
     },
     "execution_count": 10,
     "metadata": {},
     "output_type": "execute_result"
    }
   ],
   "source": [
    "math.factorial(5)"
   ]
  },
  {
   "cell_type": "code",
   "execution_count": 11,
   "id": "ab43852e",
   "metadata": {},
   "outputs": [],
   "source": [
    "import os"
   ]
  },
  {
   "cell_type": "code",
   "execution_count": 12,
   "id": "d0e4fec7",
   "metadata": {},
   "outputs": [
    {
     "data": {
      "text/plain": [
       "'C:\\\\Users\\\\anand\\\\1 Youtube Python series\\\\Gaining a Deeper understanding of python functions'"
      ]
     },
     "execution_count": 12,
     "metadata": {},
     "output_type": "execute_result"
    }
   ],
   "source": [
    "os.getcwd()"
   ]
  },
  {
   "cell_type": "code",
   "execution_count": 13,
   "id": "6524ee03",
   "metadata": {},
   "outputs": [
    {
     "data": {
      "text/plain": [
       "environ{'ALLUSERSPROFILE': 'C:\\\\ProgramData',\n",
       "        'APPDATA': 'C:\\\\Users\\\\anand\\\\AppData\\\\Roaming',\n",
       "        'ASL.LOG': 'Destination=file',\n",
       "        'COMMONPROGRAMFILES': 'C:\\\\Program Files\\\\Common Files',\n",
       "        'COMMONPROGRAMFILES(X86)': 'C:\\\\Program Files (x86)\\\\Common Files',\n",
       "        'COMMONPROGRAMW6432': 'C:\\\\Program Files\\\\Common Files',\n",
       "        'COMPUTERNAME': 'DESKTOP-RMJAUQ4',\n",
       "        'COMSPEC': 'C:\\\\WINDOWS\\\\system32\\\\cmd.exe',\n",
       "        'DOKANLIBRARY1': 'C:\\\\Program Files\\\\Dokan\\\\Dokan Library-1.5.1\\\\',\n",
       "        'DOKANLIBRARY1_LIBRARYPATH_X64': 'C:\\\\Program Files\\\\Dokan\\\\Dokan Library-1.5.1\\\\lib\\\\',\n",
       "        'DOKANLIBRARY1_LIBRARYPATH_X86': 'C:\\\\Program Files\\\\Dokan\\\\Dokan Library-1.5.1\\\\x86\\\\lib\\\\',\n",
       "        'DRIVERDATA': 'C:\\\\Windows\\\\System32\\\\Drivers\\\\DriverData',\n",
       "        'EFC_10740': '1',\n",
       "        'FPS_BROWSER_APP_PROFILE_STRING': 'Internet Explorer',\n",
       "        'FPS_BROWSER_USER_PROFILE_STRING': 'Default',\n",
       "        'HOMEDRIVE': 'C:',\n",
       "        'HOMEPATH': '\\\\Users\\\\anand',\n",
       "        'LOCALAPPDATA': 'C:\\\\Users\\\\anand\\\\AppData\\\\Local',\n",
       "        'LOGONSERVER': '\\\\\\\\DESKTOP-RMJAUQ4',\n",
       "        'NUMBER_OF_PROCESSORS': '12',\n",
       "        'ONEDRIVE': 'C:\\\\Users\\\\anand\\\\OneDrive',\n",
       "        'OS': 'Windows_NT',\n",
       "        'PATH': 'C:\\\\Users\\\\anand\\\\anaconda3\\\\Lib\\\\site-packages\\\\daal4py\\\\oneapi;C:\\\\Users\\\\anand\\\\anaconda3\\\\lib\\\\site-packages\\\\daal4py\\\\oneapi;C:\\\\Users\\\\anand\\\\anaconda3;C:\\\\Users\\\\anand\\\\anaconda3\\\\Library\\\\mingw-w64\\\\bin;C:\\\\Users\\\\anand\\\\anaconda3\\\\Library\\\\usr\\\\bin;C:\\\\Users\\\\anand\\\\anaconda3\\\\Library\\\\bin;C:\\\\Users\\\\anand\\\\anaconda3\\\\Scripts;C:\\\\Windows\\\\system32;C:\\\\Windows;C:\\\\Windows\\\\System32\\\\Wbem;C:\\\\Windows\\\\System32\\\\WindowsPowerShell\\\\v1.0\\\\;C:\\\\Windows\\\\System32\\\\OpenSSH\\\\;C:\\\\Program Files (x86)\\\\NVIDIA Corporation\\\\PhysX\\\\Common;C:\\\\Program Files\\\\NVIDIA Corporation\\\\NVIDIA NvDLISR;C:\\\\Program Files\\\\dotnet\\\\;%SystemRoot%\\\\system32;%SystemRoot%;%SystemRoot%\\\\System32\\\\Wbem;%SYSTEMROOT%\\\\System32\\\\WindowsPowerShell\\\\v1.0\\\\;%SYSTEMROOT%\\\\System32\\\\OpenSSH\\\\;C:\\\\Users\\\\anand\\\\AppData\\\\Local\\\\Microsoft\\\\WindowsApps;C:\\\\Program Files (x86)\\\\FreeArc\\\\bin;;C:\\\\Users\\\\anand\\\\anaconda3\\\\Library\\\\bin;C:\\\\Users\\\\anand\\\\anaconda3\\\\Library\\\\bin;C:\\\\Users\\\\anand\\\\anaconda3\\\\lib\\\\site-packages\\\\llvmlite\\\\binding',\n",
       "        'PATHEXT': '.COM;.EXE;.BAT;.CMD;.VBS;.VBE;.JS;.JSE;.WSF;.WSH;.MSC',\n",
       "        'PROCESSOR_ARCHITECTURE': 'AMD64',\n",
       "        'PROCESSOR_IDENTIFIER': 'AMD64 Family 25 Model 80 Stepping 0, AuthenticAMD',\n",
       "        'PROCESSOR_LEVEL': '25',\n",
       "        'PROCESSOR_REVISION': '5000',\n",
       "        'PROGRAMDATA': 'C:\\\\ProgramData',\n",
       "        'PROGRAMFILES': 'C:\\\\Program Files',\n",
       "        'PROGRAMFILES(X86)': 'C:\\\\Program Files (x86)',\n",
       "        'PROGRAMW6432': 'C:\\\\Program Files',\n",
       "        'PSMODULEPATH': 'C:\\\\Program Files\\\\WindowsPowerShell\\\\Modules;C:\\\\WINDOWS\\\\system32\\\\WindowsPowerShell\\\\v1.0\\\\Modules',\n",
       "        'PUBLIC': 'C:\\\\Users\\\\Public',\n",
       "        'SESSIONNAME': 'Console',\n",
       "        'SYSTEMDRIVE': 'C:',\n",
       "        'SYSTEMROOT': 'C:\\\\WINDOWS',\n",
       "        'TEMP': 'C:\\\\Users\\\\anand\\\\AppData\\\\Local\\\\Temp',\n",
       "        'TMP': 'C:\\\\Users\\\\anand\\\\AppData\\\\Local\\\\Temp',\n",
       "        'USERDOMAIN': 'DESKTOP-RMJAUQ4',\n",
       "        'USERDOMAIN_ROAMINGPROFILE': 'DESKTOP-RMJAUQ4',\n",
       "        'USERNAME': 'anand',\n",
       "        'USERPROFILE': 'C:\\\\Users\\\\anand',\n",
       "        'WINDIR': 'C:\\\\WINDOWS',\n",
       "        'CONDA_PREFIX': 'C:\\\\Users\\\\anand\\\\anaconda3',\n",
       "        'PYDEVD_USE_FRAME_EVAL': 'NO',\n",
       "        'JPY_INTERRUPT_EVENT': '2660',\n",
       "        'IPY_INTERRUPT_EVENT': '2660',\n",
       "        'JPY_PARENT_PID': '1272',\n",
       "        'TERM': 'xterm-color',\n",
       "        'CLICOLOR': '1',\n",
       "        'PAGER': 'cat',\n",
       "        'GIT_PAGER': 'cat',\n",
       "        'MPLBACKEND': 'module://matplotlib_inline.backend_inline',\n",
       "        'QT_API': 'pyqt5',\n",
       "        'CONDA_ROOT': 'C:\\\\Users\\\\anand\\\\anaconda3',\n",
       "        'KMP_DUPLICATE_LIB_OK': 'True',\n",
       "        'KMP_INIT_AT_FORK': 'FALSE',\n",
       "        'LANG': 'en'}"
      ]
     },
     "execution_count": 13,
     "metadata": {},
     "output_type": "execute_result"
    }
   ],
   "source": [
    "os.environ"
   ]
  },
  {
   "cell_type": "code",
   "execution_count": 15,
   "id": "99397263",
   "metadata": {},
   "outputs": [
    {
     "name": "stdout",
     "output_type": "stream",
     "text": [
      "User:  anand\n"
     ]
    }
   ],
   "source": [
    "user = os.environ[\"USERNAME\"]\n",
    "\n",
    "print(\"User: \", user)"
   ]
  },
  {
   "cell_type": "code",
   "execution_count": 17,
   "id": "f14d4b89",
   "metadata": {},
   "outputs": [
    {
     "name": "stdout",
     "output_type": "stream",
     "text": [
      "Path:  C:\\Users\\anand\\anaconda3\\Lib\\site-packages\\daal4py\\oneapi;C:\\Users\\anand\\anaconda3\\lib\\site-packages\\daal4py\\oneapi;C:\\Users\\anand\\anaconda3;C:\\Users\\anand\\anaconda3\\Library\\mingw-w64\\bin;C:\\Users\\anand\\anaconda3\\Library\\usr\\bin;C:\\Users\\anand\\anaconda3\\Library\\bin;C:\\Users\\anand\\anaconda3\\Scripts;C:\\Windows\\system32;C:\\Windows;C:\\Windows\\System32\\Wbem;C:\\Windows\\System32\\WindowsPowerShell\\v1.0\\;C:\\Windows\\System32\\OpenSSH\\;C:\\Program Files (x86)\\NVIDIA Corporation\\PhysX\\Common;C:\\Program Files\\NVIDIA Corporation\\NVIDIA NvDLISR;C:\\Program Files\\dotnet\\;%SystemRoot%\\system32;%SystemRoot%;%SystemRoot%\\System32\\Wbem;%SYSTEMROOT%\\System32\\WindowsPowerShell\\v1.0\\;%SYSTEMROOT%\\System32\\OpenSSH\\;C:\\Users\\anand\\AppData\\Local\\Microsoft\\WindowsApps;C:\\Program Files (x86)\\FreeArc\\bin;;C:\\Users\\anand\\anaconda3\\Library\\bin;C:\\Users\\anand\\anaconda3\\Library\\bin;C:\\Users\\anand\\anaconda3\\lib\\site-packages\\llvmlite\\binding\n"
     ]
    }
   ],
   "source": [
    "path = os.environ[\"PATH\"] #path variable is what you need to update when you install a new software on the machine\n",
    "\n",
    "print(\"Path: \", path)"
   ]
  },
  {
   "cell_type": "code",
   "execution_count": 19,
   "id": "2d1f2ab7",
   "metadata": {},
   "outputs": [
    {
     "data": {
      "text/plain": [
       "['.ipynb_checkpoints',\n",
       " 'V1 Global and Local Variables.ipynb',\n",
       " 'V2 Argument Passing by Value.ipynb',\n",
       " 'V3 Argument Passing By Reference.ipynb',\n",
       " 'V4 Math and OS Modules.ipynb']"
      ]
     },
     "execution_count": 19,
     "metadata": {},
     "output_type": "execute_result"
    }
   ],
   "source": [
    "os.listdir()"
   ]
  },
  {
   "cell_type": "code",
   "execution_count": 20,
   "id": "43eb5d54",
   "metadata": {},
   "outputs": [],
   "source": [
    "os.mkdir(\"./my_temp_dir\")"
   ]
  },
  {
   "cell_type": "code",
   "execution_count": 22,
   "id": "a9a8805b",
   "metadata": {},
   "outputs": [
    {
     "data": {
      "text/plain": [
       "['.ipynb_checkpoints',\n",
       " 'my_temp_dir',\n",
       " 'V1 Global and Local Variables.ipynb',\n",
       " 'V2 Argument Passing by Value.ipynb',\n",
       " 'V3 Argument Passing By Reference.ipynb',\n",
       " 'V4 Math and OS Modules.ipynb']"
      ]
     },
     "execution_count": 22,
     "metadata": {},
     "output_type": "execute_result"
    }
   ],
   "source": [
    "os.listdir(\".\") #\".\" represents the current working directory"
   ]
  },
  {
   "cell_type": "code",
   "execution_count": 23,
   "id": "1004c28d",
   "metadata": {},
   "outputs": [],
   "source": [
    "os.rename(\"my_temp_dir\",\"my_new_dir\")"
   ]
  },
  {
   "cell_type": "code",
   "execution_count": 25,
   "id": "2fd8d9dd",
   "metadata": {},
   "outputs": [
    {
     "data": {
      "text/plain": [
       "['.ipynb_checkpoints',\n",
       " 'my_new_dir',\n",
       " 'V1 Global and Local Variables.ipynb',\n",
       " 'V2 Argument Passing by Value.ipynb',\n",
       " 'V3 Argument Passing By Reference.ipynb',\n",
       " 'V4 Math and OS Modules.ipynb']"
      ]
     },
     "execution_count": 25,
     "metadata": {},
     "output_type": "execute_result"
    }
   ],
   "source": [
    "os.listdir(\".\")"
   ]
  },
  {
   "cell_type": "code",
   "execution_count": 26,
   "id": "da6af5c8",
   "metadata": {},
   "outputs": [],
   "source": [
    "os.rmdir(\"my_new_dir\")"
   ]
  },
  {
   "cell_type": "code",
   "execution_count": 27,
   "id": "e9cebc60",
   "metadata": {},
   "outputs": [
    {
     "data": {
      "text/plain": [
       "['.ipynb_checkpoints',\n",
       " 'V1 Global and Local Variables.ipynb',\n",
       " 'V2 Argument Passing by Value.ipynb',\n",
       " 'V3 Argument Passing By Reference.ipynb',\n",
       " 'V4 Math and OS Modules.ipynb']"
      ]
     },
     "execution_count": 27,
     "metadata": {},
     "output_type": "execute_result"
    }
   ],
   "source": [
    "os.listdir()"
   ]
  },
  {
   "cell_type": "code",
   "execution_count": 28,
   "id": "7bcec5da",
   "metadata": {},
   "outputs": [],
   "source": [
    "os.mkdir(\"./my_temp_dir\")"
   ]
  },
  {
   "cell_type": "code",
   "execution_count": 29,
   "id": "3e0c4d33",
   "metadata": {},
   "outputs": [
    {
     "data": {
      "text/plain": [
       "'C:\\\\Users\\\\anand\\\\1 Youtube Python series\\\\Gaining a Deeper understanding of python functions'"
      ]
     },
     "execution_count": 29,
     "metadata": {},
     "output_type": "execute_result"
    }
   ],
   "source": [
    "cwd = os.getcwd()\n",
    "\n",
    "cwd"
   ]
  },
  {
   "cell_type": "code",
   "execution_count": 30,
   "id": "a579f3cd",
   "metadata": {},
   "outputs": [
    {
     "data": {
      "text/plain": [
       "True"
      ]
     },
     "execution_count": 30,
     "metadata": {},
     "output_type": "execute_result"
    }
   ],
   "source": [
    "os.path.isdir(cwd)"
   ]
  },
  {
   "cell_type": "code",
   "execution_count": 31,
   "id": "17e0934d",
   "metadata": {},
   "outputs": [
    {
     "data": {
      "text/plain": [
       "False"
      ]
     },
     "execution_count": 31,
     "metadata": {},
     "output_type": "execute_result"
    }
   ],
   "source": [
    "os.path.isfile(cwd)"
   ]
  },
  {
   "cell_type": "code",
   "execution_count": 32,
   "id": "23d9433f",
   "metadata": {},
   "outputs": [],
   "source": [
    "# path is a namespace within the os modules"
   ]
  },
  {
   "cell_type": "code",
   "execution_count": 33,
   "id": "210c6888",
   "metadata": {},
   "outputs": [],
   "source": [
    "from os import path"
   ]
  },
  {
   "cell_type": "code",
   "execution_count": 34,
   "id": "93c05794",
   "metadata": {},
   "outputs": [
    {
     "data": {
      "text/plain": [
       "True"
      ]
     },
     "execution_count": 34,
     "metadata": {},
     "output_type": "execute_result"
    }
   ],
   "source": [
    "path.isdir(cwd)"
   ]
  },
  {
   "cell_type": "code",
   "execution_count": 35,
   "id": "83fc2cab",
   "metadata": {},
   "outputs": [
    {
     "data": {
      "text/plain": [
       "False"
      ]
     },
     "execution_count": 35,
     "metadata": {},
     "output_type": "execute_result"
    }
   ],
   "source": [
    "path.isfile(cwd)"
   ]
  },
  {
   "cell_type": "code",
   "execution_count": 36,
   "id": "c2ba2da9",
   "metadata": {},
   "outputs": [
    {
     "data": {
      "text/plain": [
       "True"
      ]
     },
     "execution_count": 36,
     "metadata": {},
     "output_type": "execute_result"
    }
   ],
   "source": [
    "path.exists(\"my_temp_dir\")"
   ]
  },
  {
   "cell_type": "code",
   "execution_count": 37,
   "id": "46d1ad90",
   "metadata": {},
   "outputs": [
    {
     "data": {
      "text/plain": [
       "False"
      ]
     },
     "execution_count": 37,
     "metadata": {},
     "output_type": "execute_result"
    }
   ],
   "source": [
    "path.exists(\"random_dir\")"
   ]
  },
  {
   "cell_type": "code",
   "execution_count": null,
   "id": "836fffc8",
   "metadata": {},
   "outputs": [],
   "source": []
  }
 ],
 "metadata": {
  "kernelspec": {
   "display_name": "Python 3 (ipykernel)",
   "language": "python",
   "name": "python3"
  },
  "language_info": {
   "codemirror_mode": {
    "name": "ipython",
    "version": 3
   },
   "file_extension": ".py",
   "mimetype": "text/x-python",
   "name": "python",
   "nbconvert_exporter": "python",
   "pygments_lexer": "ipython3",
   "version": "3.9.12"
  }
 },
 "nbformat": 4,
 "nbformat_minor": 5
}
