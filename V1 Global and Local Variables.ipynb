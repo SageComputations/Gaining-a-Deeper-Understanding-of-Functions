{
 "cells": [
  {
   "cell_type": "markdown",
   "id": "fbfc024f",
   "metadata": {},
   "source": [
    "# Global Variables - Defined and assigned values outside the scope of a function\n"
   ]
  },
  {
   "cell_type": "code",
   "execution_count": 1,
   "id": "beecdc45",
   "metadata": {},
   "outputs": [],
   "source": [
    "country = \"India\"\n",
    "city = \"Delhi\""
   ]
  },
  {
   "cell_type": "code",
   "execution_count": 2,
   "id": "7ad2cee3",
   "metadata": {},
   "outputs": [],
   "source": [
    "def some_fn():\n",
    "    print(\"Country: \", country)\n",
    "    print(\"City: \",city)"
   ]
  },
  {
   "cell_type": "code",
   "execution_count": 3,
   "id": "27f33543",
   "metadata": {},
   "outputs": [
    {
     "name": "stdout",
     "output_type": "stream",
     "text": [
      "Country:  India\n",
      "City:  Delhi\n"
     ]
    }
   ],
   "source": [
    "some_fn()"
   ]
  },
  {
   "cell_type": "code",
   "execution_count": 6,
   "id": "e98d52eb",
   "metadata": {},
   "outputs": [],
   "source": [
    "def some_fn():\n",
    "    country = \"USA\" #Local Variable\n",
    "    \n",
    "    print(\"Country: \", country)\n",
    "    print(\"City: \",city)"
   ]
  },
  {
   "cell_type": "code",
   "execution_count": 5,
   "id": "48fcf403",
   "metadata": {},
   "outputs": [
    {
     "name": "stdout",
     "output_type": "stream",
     "text": [
      "Country:  USA\n",
      "City:  Delhi\n"
     ]
    }
   ],
   "source": [
    "some_fn()"
   ]
  },
  {
   "cell_type": "markdown",
   "id": "2fc9e426",
   "metadata": {},
   "source": [
    "# Local variables hide gloabal variables when they have the same name"
   ]
  },
  {
   "cell_type": "code",
   "execution_count": 7,
   "id": "44f0a7cc",
   "metadata": {},
   "outputs": [
    {
     "data": {
      "text/plain": [
       "('India', 'Delhi')"
      ]
     },
     "execution_count": 7,
     "metadata": {},
     "output_type": "execute_result"
    }
   ],
   "source": [
    "country, city"
   ]
  },
  {
   "cell_type": "code",
   "execution_count": 8,
   "id": "d050feaa",
   "metadata": {},
   "outputs": [],
   "source": [
    "def some_fn():\n",
    "    city = \"Bangalore\"\n",
    "    \n",
    "    print(\"Country: \", country)\n",
    "    print(\"City: \",city)"
   ]
  },
  {
   "cell_type": "code",
   "execution_count": 9,
   "id": "1216b63f",
   "metadata": {},
   "outputs": [
    {
     "name": "stdout",
     "output_type": "stream",
     "text": [
      "Country:  India\n",
      "City:  Bangalore\n"
     ]
    }
   ],
   "source": [
    "some_fn()"
   ]
  },
  {
   "cell_type": "code",
   "execution_count": 11,
   "id": "493e593c",
   "metadata": {},
   "outputs": [
    {
     "data": {
      "text/plain": [
       "('India', 'Delhi')"
      ]
     },
     "execution_count": 11,
     "metadata": {},
     "output_type": "execute_result"
    }
   ],
   "source": [
    "country, city  #outside the function the global variables remain same"
   ]
  },
  {
   "cell_type": "code",
   "execution_count": 12,
   "id": "328e709c",
   "metadata": {},
   "outputs": [],
   "source": [
    "def some_fn():\n",
    "    country = \"USA\"\n",
    "    city = \"Chicago\"\n",
    "    \n",
    "    print(\"Country: \", country)\n",
    "    print(\"City: \",city)"
   ]
  },
  {
   "cell_type": "code",
   "execution_count": 13,
   "id": "55696eb1",
   "metadata": {},
   "outputs": [
    {
     "name": "stdout",
     "output_type": "stream",
     "text": [
      "Country:  USA\n",
      "City:  Chicago\n"
     ]
    }
   ],
   "source": [
    "some_fn()"
   ]
  },
  {
   "cell_type": "code",
   "execution_count": 15,
   "id": "c3db7746",
   "metadata": {},
   "outputs": [
    {
     "data": {
      "text/plain": [
       "('India', 'Delhi')"
      ]
     },
     "execution_count": 15,
     "metadata": {},
     "output_type": "execute_result"
    }
   ],
   "source": [
    "country, city"
   ]
  },
  {
   "cell_type": "code",
   "execution_count": 16,
   "id": "4fb3ef6e",
   "metadata": {},
   "outputs": [],
   "source": [
    "def some_fn():\n",
    "    city = city + \"-Hyderabad\"\n",
    "    \n",
    "    print(\"Country: \", country)\n",
    "    print(\"City: \",city)"
   ]
  },
  {
   "cell_type": "code",
   "execution_count": 17,
   "id": "26464876",
   "metadata": {},
   "outputs": [
    {
     "ename": "UnboundLocalError",
     "evalue": "local variable 'city' referenced before assignment",
     "output_type": "error",
     "traceback": [
      "\u001b[1;31m---------------------------------------------------------------------------\u001b[0m",
      "\u001b[1;31mUnboundLocalError\u001b[0m                         Traceback (most recent call last)",
      "Input \u001b[1;32mIn [17]\u001b[0m, in \u001b[0;36m<cell line: 1>\u001b[1;34m()\u001b[0m\n\u001b[1;32m----> 1\u001b[0m \u001b[43msome_fn\u001b[49m\u001b[43m(\u001b[49m\u001b[43m)\u001b[49m\n",
      "Input \u001b[1;32mIn [16]\u001b[0m, in \u001b[0;36msome_fn\u001b[1;34m()\u001b[0m\n\u001b[0;32m      1\u001b[0m \u001b[38;5;28;01mdef\u001b[39;00m \u001b[38;5;21msome_fn\u001b[39m():\n\u001b[1;32m----> 2\u001b[0m     city \u001b[38;5;241m=\u001b[39m \u001b[43mcity\u001b[49m \u001b[38;5;241m+\u001b[39m \u001b[38;5;124m\"\u001b[39m\u001b[38;5;124m-Hyderabad\u001b[39m\u001b[38;5;124m\"\u001b[39m\n\u001b[0;32m      4\u001b[0m     \u001b[38;5;28mprint\u001b[39m(\u001b[38;5;124m\"\u001b[39m\u001b[38;5;124mCountry: \u001b[39m\u001b[38;5;124m\"\u001b[39m, country)\n\u001b[0;32m      5\u001b[0m     \u001b[38;5;28mprint\u001b[39m(\u001b[38;5;124m\"\u001b[39m\u001b[38;5;124mCity: \u001b[39m\u001b[38;5;124m\"\u001b[39m,city)\n",
      "\u001b[1;31mUnboundLocalError\u001b[0m: local variable 'city' referenced before assignment"
     ]
    }
   ],
   "source": [
    "some_fn()"
   ]
  },
  {
   "cell_type": "code",
   "execution_count": 18,
   "id": "f939e1f4",
   "metadata": {},
   "outputs": [],
   "source": [
    "def some_fn():\n",
    "    city = \"Bangalore\"\n",
    "    city = city + \"-Hyderabad\"\n",
    "    \n",
    "    print(\"Country: \", country)\n",
    "    print(\"City: \",city)"
   ]
  },
  {
   "cell_type": "code",
   "execution_count": 20,
   "id": "c990da70",
   "metadata": {},
   "outputs": [
    {
     "name": "stdout",
     "output_type": "stream",
     "text": [
      "Country:  India\n",
      "City:  Bangalore-Hyderabad\n"
     ]
    }
   ],
   "source": [
    "some_fn()"
   ]
  },
  {
   "cell_type": "code",
   "execution_count": 21,
   "id": "c9e9d21c",
   "metadata": {},
   "outputs": [
    {
     "data": {
      "text/plain": [
       "('India', 'Delhi')"
      ]
     },
     "execution_count": 21,
     "metadata": {},
     "output_type": "execute_result"
    }
   ],
   "source": [
    "country, city"
   ]
  },
  {
   "cell_type": "code",
   "execution_count": 22,
   "id": "c14c4506",
   "metadata": {},
   "outputs": [],
   "source": [
    "def some_fn():\n",
    "    city = \"Patna\"\n",
    "    city = city + \"-Pune\"\n",
    "    \n",
    "    print(\"Country: \", country)\n",
    "    print(\"City: \",city)"
   ]
  },
  {
   "cell_type": "code",
   "execution_count": 23,
   "id": "7b52c0a9",
   "metadata": {},
   "outputs": [
    {
     "name": "stdout",
     "output_type": "stream",
     "text": [
      "Country:  India\n",
      "City:  Patna-Pune\n"
     ]
    }
   ],
   "source": [
    "some_fn()"
   ]
  },
  {
   "cell_type": "code",
   "execution_count": 24,
   "id": "2e561c2d",
   "metadata": {},
   "outputs": [
    {
     "data": {
      "text/plain": [
       "('India', 'Delhi')"
      ]
     },
     "execution_count": 24,
     "metadata": {},
     "output_type": "execute_result"
    }
   ],
   "source": [
    "country, city"
   ]
  },
  {
   "cell_type": "code",
   "execution_count": 25,
   "id": "44bfc51b",
   "metadata": {},
   "outputs": [],
   "source": [
    "def some_fn(country, city):\n",
    "    print(\"Country: \", country)\n",
    "    print(\"City: \",city)"
   ]
  },
  {
   "cell_type": "code",
   "execution_count": 26,
   "id": "b173702e",
   "metadata": {},
   "outputs": [
    {
     "name": "stdout",
     "output_type": "stream",
     "text": [
      "Country:  USA\n",
      "City:  Michigan\n"
     ]
    }
   ],
   "source": [
    "some_fn(\"USA\",\"Michigan\")"
   ]
  },
  {
   "cell_type": "code",
   "execution_count": 27,
   "id": "a7f593a2",
   "metadata": {},
   "outputs": [],
   "source": [
    "def some_fn():\n",
    "    \n",
    "    global city\n",
    "    \n",
    "    city = city + \"-Ranchi\"\n",
    "    \n",
    "    print(\"Country: \", country)\n",
    "    print(\"City: \",city)"
   ]
  },
  {
   "cell_type": "code",
   "execution_count": 28,
   "id": "ff4a14fd",
   "metadata": {},
   "outputs": [
    {
     "name": "stdout",
     "output_type": "stream",
     "text": [
      "Country:  India\n",
      "City:  Delhi-Ranchi\n"
     ]
    }
   ],
   "source": [
    "some_fn()"
   ]
  },
  {
   "cell_type": "code",
   "execution_count": 29,
   "id": "0e5e20b9",
   "metadata": {},
   "outputs": [
    {
     "data": {
      "text/plain": [
       "('India', 'Delhi-Ranchi')"
      ]
     },
     "execution_count": 29,
     "metadata": {},
     "output_type": "execute_result"
    }
   ],
   "source": [
    "country, city"
   ]
  },
  {
   "cell_type": "code",
   "execution_count": 30,
   "id": "2fa1edc9",
   "metadata": {},
   "outputs": [],
   "source": [
    "city = \"Delhi\""
   ]
  },
  {
   "cell_type": "code",
   "execution_count": 31,
   "id": "4f030c3f",
   "metadata": {},
   "outputs": [
    {
     "data": {
      "text/plain": [
       "('India', 'Delhi')"
      ]
     },
     "execution_count": 31,
     "metadata": {},
     "output_type": "execute_result"
    }
   ],
   "source": [
    "country, city"
   ]
  },
  {
   "cell_type": "code",
   "execution_count": 32,
   "id": "b1979aa1",
   "metadata": {},
   "outputs": [],
   "source": [
    "def some_fn():\n",
    "    \n",
    "    global city, country\n",
    "    \n",
    "    city = city + \"-Ranchi\"\n",
    "    country = country + \"-World\"\n",
    "    \n",
    "    print(\"Country: \", country)\n",
    "    print(\"City: \",city)"
   ]
  },
  {
   "cell_type": "code",
   "execution_count": 33,
   "id": "c7f6a735",
   "metadata": {},
   "outputs": [
    {
     "name": "stdout",
     "output_type": "stream",
     "text": [
      "Country:  India-World\n",
      "City:  Delhi-Ranchi\n"
     ]
    }
   ],
   "source": [
    "some_fn()"
   ]
  },
  {
   "cell_type": "code",
   "execution_count": 34,
   "id": "f4642028",
   "metadata": {},
   "outputs": [
    {
     "data": {
      "text/plain": [
       "('India-World', 'Delhi-Ranchi')"
      ]
     },
     "execution_count": 34,
     "metadata": {},
     "output_type": "execute_result"
    }
   ],
   "source": [
    "country, city"
   ]
  },
  {
   "cell_type": "code",
   "execution_count": null,
   "id": "d68b0b15",
   "metadata": {},
   "outputs": [],
   "source": []
  }
 ],
 "metadata": {
  "kernelspec": {
   "display_name": "Python 3 (ipykernel)",
   "language": "python",
   "name": "python3"
  },
  "language_info": {
   "codemirror_mode": {
    "name": "ipython",
    "version": 3
   },
   "file_extension": ".py",
   "mimetype": "text/x-python",
   "name": "python",
   "nbconvert_exporter": "python",
   "pygments_lexer": "ipython3",
   "version": "3.9.12"
  }
 },
 "nbformat": 4,
 "nbformat_minor": 5
}
